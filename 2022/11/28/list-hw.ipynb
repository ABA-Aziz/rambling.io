{
 "cells": [
  {
   "cell_type": "code",
   "execution_count": null,
   "metadata": {},
   "outputs": [],
   "source": [
    "quesList = [\"What is the Computer Science term for a phrase conscribed inside a set of double quotation marks?\", \"What name does the creator of Python share with a character from the Cars franchise?\", \"If two trains leave the station at 5 PM and travel at the same speed for their entire journey, with Train A going North at 50 miles per hour and Train B going South at 65 miles per hour, how fast, in miles per hour, is Train A travelling at 7 PM?\"]\n",
    "answerList = [\"string\", \"Guido\", \"50\"]\n",
    "quesAmount=len(quesList)\n",
    "quesList <= quesAmount\n",
    "    print(quesList[quesAmount])\n",
    "    guess = input()\n",
    "    if guess == soluList(quesAmount):\n",
    "        score+=1\n",
    "        print(\"Correct! Score: \"score)\n",
    "    else:\n",
    "        print(\"Incorrect! The correct answer was \" + score)\n",
    "    quesAmount += 1"
   ]
  }
 ],
 "metadata": {
  "kernelspec": {
   "display_name": "Python 3.8.10 64-bit",
   "language": "python",
   "name": "python3"
  },
  "language_info": {
   "name": "python",
   "version": "3.8.10"
  },
  "orig_nbformat": 4,
  "vscode": {
   "interpreter": {
    "hash": "916dbcbb3f70747c44a77c7bcd40155683ae19c65e1c03b4aa3499c5328201f1"
   }
  }
 },
 "nbformat": 4,
 "nbformat_minor": 2
}
