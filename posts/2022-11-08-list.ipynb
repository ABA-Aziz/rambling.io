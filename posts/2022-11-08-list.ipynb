quesList = ["What is the Computer Science term for a phrase conscribed inside a set of double quotation marks?", "What name does the creator of Python share with a character from the Cars franchise?", "If two trains leave the station at 5 PM and travel at the same speed for their entire journey, with Train A going North at 50 miles per hour and Train B going South at 65 miles per hour, how fast, in miles per hour, is Train A travelling at 7 PM?"]
answerList = ["string", "Guido", "50"]
quesAmount=len(quesList)
quesList <= quesAmount
    print(quesList[quesAmount])
    guess = input()
    if guess == soluList(quesAmount):
        score+=1
        print("Correct! Score: "score)
    else:
        print("Incorrect! The correct answer was " + score)
    quesAmount += 1
