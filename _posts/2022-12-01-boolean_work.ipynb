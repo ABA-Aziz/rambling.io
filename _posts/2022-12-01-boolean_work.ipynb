{
 "cells": [
  {
   "cell_type": "code",
   "execution_count": 4,
   "metadata": {},
   "outputs": [
    {
     "name": "stdout",
     "output_type": "stream",
     "text": [
      "false\n"
     ]
    }
   ],
   "source": [
    "grade1 = 90\n",
    "grade2 = 65\n",
    "grade3 = 60\n",
    "grade4 = 75\n",
    "grade5 = 95\n",
    "if (grade1+grade2+grade3+grade4+grade5)/5 > 80:\n",
    "    print(\"true\")\n",
    "else: \n",
    "    print(\"false\")"
   ]
  },
  {
   "cell_type": "code",
   "execution_count": 10,
   "metadata": {},
   "outputs": [
    {
     "name": "stdout",
     "output_type": "stream",
     "text": [
      "true\n"
     ]
    }
   ],
   "source": [
    "if 1 < 2 or 5 < 12:\n",
    "    print(\"true\")\n",
    "if not 24 > 8:\n",
    "    print(\"false\")\n",
    "if 10 > 20 and 20 < 10:\n",
    "    print(\"false\")"
   ]
  },
  {
   "cell_type": "code",
   "execution_count": 17,
   "metadata": {},
   "outputs": [
    {
     "name": "stdout",
     "output_type": "stream",
     "text": [
      "859\n"
     ]
    }
   ],
   "source": [
    "num1 = 367\n",
    "num2 = 492\n",
    "sum = num1 + num2\n",
    "if sum == 200:\n",
    "    print(\"200\")\n",
    "else:\n",
    "    print(sum)"
   ]
  },
  {
   "cell_type": "code",
   "execution_count": 21,
   "metadata": {},
   "outputs": [
    {
     "name": "stdout",
     "output_type": "stream",
     "text": [
      "you will be paid 90k\n"
     ]
    }
   ],
   "source": [
    "hours = 11\n",
    "if hours >= 8:\n",
    "    print(\"you will be paid 90k\")\n",
    "else: \n",
    "    if hours >= 10:\n",
    "        print(\"you will be paid 150k\")\n",
    "    else:\n",
    "        if hours < 8:\n",
    "            print(\"your salary will be 50k\")"
   ]
  },
  {
   "cell_type": "code",
   "execution_count": 25,
   "metadata": {},
   "outputs": [
    {
     "name": "stdout",
     "output_type": "stream",
     "text": [
      "This is a good product.\n"
     ]
    }
   ],
   "source": [
    "expired = False\n",
    "cost = 35\n",
    "if cost >= 25 and cost < 50 and expired == False:\n",
    "    print(\"This is a good product.\")\n",
    "else: \n",
    "    if expired == True:\n",
    "        print(\"This product is no good!\")\n",
    "    else:\n",
    "        if cost >= 50:\n",
    "            print(\"This is too expensive!\")\n",
    "        else:\n",
    "            if cost <= 25:\n",
    "                print (\"This is cheap\")"
   ]
  },
  {
   "cell_type": "code",
   "execution_count": null,
   "metadata": {},
   "outputs": [],
   "source": [
    "print(\"Are you enjoying this?\")\n",
    "print(\"1. Yes. \")\n",
    "if:\n",
    "    input = \"Yes\""
   ]
  }
 ],
 "metadata": {
  "kernelspec": {
   "display_name": "Python 3.8.10 64-bit",
   "language": "python",
   "name": "python3"
  },
  "language_info": {
   "codemirror_mode": {
    "name": "ipython",
    "version": 3
   },
   "file_extension": ".py",
   "mimetype": "text/x-python",
   "name": "python",
   "nbconvert_exporter": "python",
   "pygments_lexer": "ipython3",
   "version": "3.8.10"
  },
  "orig_nbformat": 4,
  "vscode": {
   "interpreter": {
    "hash": "916dbcbb3f70747c44a77c7bcd40155683ae19c65e1c03b4aa3499c5328201f1"
   }
  }
 },
 "nbformat": 4,
 "nbformat_minor": 2
}
