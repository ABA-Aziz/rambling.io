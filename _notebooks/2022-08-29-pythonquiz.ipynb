{
 "cells": [
  {
   "cell_type": "markdown",
   "metadata": {},
   "source": [
    "# Fun Little Quiz\n",
    "> A fun little quiz to see how the site is going\n",
    "\n",
    "- toc: true \n",
    "- badges: true\n",
    "- comments: true\n",
    "- categories: [\"jupyter\", \"post\"]\n",
    "- image: images/rider jump.png"
   ]
  },
  {
   "cell_type": "code",
<<<<<<< HEAD
=======
   "execution_count": null,
   "metadata": {},
   "outputs": [],
   "source": []
  },
  {
   "cell_type": "code",
>>>>>>> merge:
   "execution_count": 4,
   "metadata": {},
   "outputs": [
    {
     "name": "stdout",
     "output_type": "stream",
     "text": [
      "Hello, abaziz running /home/abaziz/anaconda3/bin/python\n",
      "You will be asked 3 questions.\n",
      "Question: Are you ready to take a test?\n",
      "yes\n",
      "Answer: yes\n",
      "Question: Who is the character on the front page of this site?\n",
      "kickhopper\n",
      "kickhopper is correct!\n",
      "Question: What is the name of this site?\n",
      "rambling\n",
      "rambling is correct!\n",
      "Question: What is (3^2 - 5)^0.5?\n",
      "2\n",
      "2 is correct!\n",
      "abaziz you scored 3/3\n"
     ]
    }
   ],
   "source": [
    "import getpass, sys\n",
    "\n",
    "def question_and_answer(prompt):\n",
    "    print(\"Question: \" + prompt)\n",
    "    msg = input()\n",
    "    print(\"Answer: \" + msg)\n",
    "    \n",
    "def question_with_response(prompt):\n",
    "    print(\"Question: \" + prompt)\n",
    "    msg = input()\n",
    "    return msg\n",
    "\n",
    "questions = 3\n",
    "correct = 0\n",
    "\n",
    "print('Hello, ' + getpass.getuser() + \" running \" + sys.executable)\n",
    "print(\"You will be asked \" + str(questions) + \" questions.\")\n",
    "question_and_answer(\"Are you ready to take a test?\")\n",
    "\n",
    "rsp = question_with_response(\"Who is the character on the front page of this site?\")\n",
    "if rsp == \"kickhopper\":\n",
    "    print(rsp + \" is correct!\")\n",
    "    correct += 1\n",
    "elif rsp == \"kick hopper\":\n",
    "        print(rsp + \" is correct!\")\n",
    "        correct +=1\n",
    "elif rsp == \"kamen rider kickhopper\":\n",
    "        print(rsp + \" is correct!\")\n",
    "        correct +=1\n",
    "elif rsp == \"kamen rider kick hopper\":\n",
    "        print(rsp + \" is correct!\")\n",
    "        correct +=1\n",
    "elif rsp == \"sou yaguruma\":\n",
    "        print(rsp + \" is correct!\")\n",
    "        correct +=1\n",
    "elif rsp == \"yaguruma sou\":\n",
    "        print(rsp + \" is correct!\")\n",
    "        correct +=1\n",
    "else:\n",
    "    print(rsp + \" is incorrect!\")\n",
    "\n",
    "rsp = question_with_response(\"What is the name of this site?\")\n",
    "if rsp == \"rambling\":\n",
    "    print(rsp + \" is correct!\")\n",
    "    correct += 1\n",
    "else:\n",
    "    print(rsp + \" is incorrect!\")\n",
    "\n",
    "rsp = question_with_response(\"What is (3^2 - 5)^0.5?\")\n",
    "if rsp == \"2\":\n",
    "    print(rsp + \" is correct!\")\n",
    "    correct += 1\n",
    "else:\n",
    "    print(rsp + \" is incorrect!\")\n",
    "\n",
    "print(getpass.getuser() + \" you scored \" + str(correct) +\"/\" + str(questions))"
   ]
  },
  {
   "cell_type": "code",
   "execution_count": null,
   "metadata": {},
   "outputs": [],
   "source": []
  }
 ],
 "metadata": {
  "kernelspec": {
   "display_name": "Python 3 (ipykernel)",
   "language": "python",
   "name": "python3"
  },
  "language_info": {
   "codemirror_mode": {
    "name": "ipython",
    "version": 3
   },
   "file_extension": ".py",
   "mimetype": "text/x-python",
   "name": "python",
   "nbconvert_exporter": "python",
   "pygments_lexer": "ipython3",
<<<<<<< HEAD
   "version": "3.9.12"
=======
   "version": "3.10.6"
>>>>>>> merge
  },
  "vscode": {
   "interpreter": {
    "hash": "26de051ba29f2982a8de78e945f0abaf191376122a1563185a90213a26c5da77"
   }
  }
 },
 "nbformat": 4,
 "nbformat_minor": 2
}
